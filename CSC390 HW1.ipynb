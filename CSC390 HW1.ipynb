{
 "cells": [
  {
   "cell_type": "markdown",
   "metadata": {},
   "source": [
    "# CSC 390 HW1; Can robots write meaningful news?"
   ]
  },
  {
   "cell_type": "markdown",
   "metadata": {},
   "source": [
    "#### http://ju.se/en/research/news/news-archive/2017-03-27-can-robots-write-meaningful-news.html"
   ]
  },
  {
   "cell_type": "markdown",
   "metadata": {
    "collapsed": true
   },
   "source": [
    "## I. Thoughts and Reflections"
   ]
  },
  {
   "cell_type": "markdown",
   "metadata": {},
   "source": [
    "The writer points out that the incentive of having robots to write meaningful news is to replace humans in repetitive professions as much as possible. However, in our conventional perception about journalism, it is a field that "
   ]
  },
  {
   "cell_type": "markdown",
   "metadata": {
    "collapsed": true
   },
   "source": [
    "## II. Ways of Implementaion "
   ]
  },
  {
   "cell_type": "markdown",
   "metadata": {},
   "source": [
    "The core will be first having the dataset prepared as the input for processing. In order to gives the reader the news that he or she cares most, the system will usually store the past search history and used machine learning algorithms to find the pattern. Another portion of AI that it may involves in this process is natural language processing where large stream of text and news are processed for machine to understand and based on corpus database, render human redeable sentences draw from the data."
   ]
  },
  {
   "cell_type": "markdown",
   "metadata": {
    "collapsed": true
   },
   "source": [
    "#### ACM Tech News of Interest 09/22: Automatic Code Reuse"
   ]
  },
  {
   "cell_type": "markdown",
   "metadata": {},
   "source": [
    "http://news.mit.edu/2017/automatic-code-reuse-0920"
   ]
  },
  {
   "cell_type": "markdown",
   "metadata": {},
   "source": [
    "In this piece of news, it is said that CASIL of MIT develed CodeCarbonCopy, a system that can enable programmers to transplant code from one program to another with ease. I found this really exciting, as it might be crucial for the advancement of AI.With this new technic, machines can automatically applied exisiting algorithms to any new programs without worrying about changing variables or link with new data set.\n",
    "\n",
    "The implementation is primarily associated with finding the patterns and correspondences between the variables in both programs and then translating operations. Right now, the system works well with organized programs and data sources such as image processing. In the future, if the programs can be more flexible to adopt operations with various data patterns, it will be of great help to fully used open source program and propel the programs to \"learn by them self\"."
   ]
  },
  {
   "cell_type": "code",
   "execution_count": null,
   "metadata": {
    "collapsed": true
   },
   "outputs": [],
   "source": []
  }
 ],
 "metadata": {
  "kernelspec": {
   "display_name": "Python 2",
   "language": "python",
   "name": "python2"
  },
  "language_info": {
   "codemirror_mode": {
    "name": "ipython",
    "version": 2
   },
   "file_extension": ".py",
   "mimetype": "text/x-python",
   "name": "python",
   "nbconvert_exporter": "python",
   "pygments_lexer": "ipython2",
   "version": "2.7.13"
  }
 },
 "nbformat": 4,
 "nbformat_minor": 2
}
